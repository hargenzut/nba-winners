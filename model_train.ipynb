{
 "cells": [
  {
   "cell_type": "markdown",
   "id": "4b5cf904",
   "metadata": {},
   "source": [
    "setup.\n",
    "get our features"
   ]
  },
  {
   "cell_type": "code",
   "execution_count": null,
   "id": "2840b0bb",
   "metadata": {},
   "outputs": [
    {
     "data": {
      "text/html": [
       "<div>\n",
       "<style scoped>\n",
       "    .dataframe tbody tr th:only-of-type {\n",
       "        vertical-align: middle;\n",
       "    }\n",
       "\n",
       "    .dataframe tbody tr th {\n",
       "        vertical-align: top;\n",
       "    }\n",
       "\n",
       "    .dataframe thead th {\n",
       "        text-align: right;\n",
       "    }\n",
       "</style>\n",
       "<table border=\"1\" class=\"dataframe\">\n",
       "  <thead>\n",
       "    <tr style=\"text-align: right;\">\n",
       "      <th></th>\n",
       "      <th>team_a_home</th>\n",
       "      <th>series_game_number</th>\n",
       "      <th>series_diff</th>\n",
       "      <th>season_start_year</th>\n",
       "      <th>team_a_win</th>\n",
       "      <th>rs_rating_diff</th>\n",
       "      <th>po_rating_diff</th>\n",
       "    </tr>\n",
       "  </thead>\n",
       "  <tbody>\n",
       "    <tr>\n",
       "      <th>0</th>\n",
       "      <td>1</td>\n",
       "      <td>1.0</td>\n",
       "      <td>0</td>\n",
       "      <td>2009</td>\n",
       "      <td>1</td>\n",
       "      <td>7.842345</td>\n",
       "      <td>5.608103</td>\n",
       "    </tr>\n",
       "    <tr>\n",
       "      <th>1</th>\n",
       "      <td>1</td>\n",
       "      <td>2.0</td>\n",
       "      <td>1</td>\n",
       "      <td>2009</td>\n",
       "      <td>1</td>\n",
       "      <td>7.842345</td>\n",
       "      <td>5.585902</td>\n",
       "    </tr>\n",
       "    <tr>\n",
       "      <th>2</th>\n",
       "      <td>0</td>\n",
       "      <td>3.0</td>\n",
       "      <td>2</td>\n",
       "      <td>2009</td>\n",
       "      <td>0</td>\n",
       "      <td>7.842345</td>\n",
       "      <td>5.643986</td>\n",
       "    </tr>\n",
       "    <tr>\n",
       "      <th>3</th>\n",
       "      <td>0</td>\n",
       "      <td>4.0</td>\n",
       "      <td>1</td>\n",
       "      <td>2009</td>\n",
       "      <td>1</td>\n",
       "      <td>7.842345</td>\n",
       "      <td>3.766211</td>\n",
       "    </tr>\n",
       "    <tr>\n",
       "      <th>4</th>\n",
       "      <td>1</td>\n",
       "      <td>5.0</td>\n",
       "      <td>2</td>\n",
       "      <td>2009</td>\n",
       "      <td>1</td>\n",
       "      <td>7.842345</td>\n",
       "      <td>3.818176</td>\n",
       "    </tr>\n",
       "  </tbody>\n",
       "</table>\n",
       "</div>"
      ],
      "text/plain": [
       "   team_a_home  series_game_number  series_diff  season_start_year  \\\n",
       "0            1                 1.0            0               2009   \n",
       "1            1                 2.0            1               2009   \n",
       "2            0                 3.0            2               2009   \n",
       "3            0                 4.0            1               2009   \n",
       "4            1                 5.0            2               2009   \n",
       "\n",
       "   team_a_win  rs_rating_diff  po_rating_diff  \n",
       "0           1        7.842345        5.608103  \n",
       "1           1        7.842345        5.585902  \n",
       "2           0        7.842345        5.643986  \n",
       "3           1        7.842345        3.766211  \n",
       "4           1        7.842345        3.818176  "
      ]
     },
     "execution_count": 19,
     "metadata": {},
     "output_type": "execute_result"
    }
   ],
   "source": [
    "from sklearn.base import BaseEstimator, TransformerMixin\n",
    "from sklearn.compose import ColumnTransformer\n",
    "from sklearn.model_selection import train_test_split\n",
    "from sklearn.preprocessing import PolynomialFeatures, StandardScaler\n",
    "from sklearn.pipeline import Pipeline\n",
    "from sklearn.linear_model import LogisticRegression\n",
    "from sklearn.model_selection import cross_val_score\n",
    "from sklearn.model_selection import GridSearchCV\n",
    "import pandas as pd\n",
    "\n",
    "# features we're working with below\n",
    "normalized_features = ['rs_rating_diff', 'po_rating_diff', 'series_diff', 'series_game_number']\n",
    "other_features = ['team_a_home'] # not including season_start_year- pipeline will run after splitting, we want to drop it. target already dropped\n",
    "\n",
    "# polynomial features\n",
    "# poly_feature_names = ['1', 'num__rs_rating_diff', 'num__po_rating_diff', 'num__series_diff',\n",
    "#  'num__series_game_number', 'cat__team_a_home', 'num__rs_rating_diff^2',\n",
    "#  'num__rs_rating_diff num__po_rating_diff',\n",
    "#  'num__rs_rating_diff num__series_diff',\n",
    "#  'num__rs_rating_diff num__series_game_number',\n",
    "#  'num__rs_rating_diff cat__team_a_home', 'num__po_rating_diff^2',\n",
    "#  'num__po_rating_diff num__series_diff',\n",
    "#  'num__po_rating_diff num__series_game_number',\n",
    "#  'num__po_rating_diff cat__team_a_home', 'num__series_diff^2',\n",
    "#  'num__series_diff num__series_game_number',\n",
    "#  'num__series_diff cat__team_a_home', 'num__series_game_number^2',\n",
    "#  'num__series_game_number cat__team_a_home', 'cat__team_a_home^2']\n",
    "\n",
    "# load, drop columns. will drop season start year later- need it for the seasonal CV/test splitting\n",
    "games_df = pd.read_csv(\"output/playoff_features.csv\")\n",
    "games_df = games_df.dropna()\n",
    "games_df[\"rs_rating_diff\"] = games_df[\"team_a_rs_rating\"] - games_df[\"team_b_rs_rating\"]\n",
    "games_df[\"po_rating_diff\"] = games_df[\"team_a_po_rating\"] - games_df[\"team_b_po_rating\"]\n",
    "games_df = games_df.drop(columns=['game_id', 'game_date', 'team_a_name', 'team_b_name', 'team_a_series_wins', 'team_b_series_wins',\n",
    "                                  'team_a_rs_rating', 'team_b_rs_rating', 'team_a_po_rating', 'team_b_po_rating',\n",
    "                                  'team_a_rs_rating_var', 'team_b_rs_rating_var', 'team_a_po_rating_var', 'team_b_po_rating_var'])\n",
    "games_df.head()"
   ]
  },
  {
   "cell_type": "markdown",
   "id": "204992d6",
   "metadata": {},
   "source": [
    "Intermediary, run once step- need to get the column names "
   ]
  },
  {
   "cell_type": "code",
   "execution_count": 20,
   "id": "920eb7a6",
   "metadata": {},
   "outputs": [],
   "source": [
    "# col_transformer = ColumnTransformer(\n",
    "#     transformers=[\n",
    "#         ('num', StandardScaler(), normalized_features),\n",
    "#         ('cat', 'passthrough', other_features)\n",
    "#     ]\n",
    "# )\n",
    "\n",
    "# col_transformer.fit(games_df[normalized_features + other_features])\n",
    "# col_names = col_transformer.get_feature_names_out()\n",
    "# # print(col_names)\n",
    "# poly = PolynomialFeatures(degree=2)\n",
    "# poly.fit(col_transformer.transform(games_df[normalized_features + other_features]))\n",
    "# poly_feature_names = poly.get_feature_names_out(col_names)\n",
    "# print(poly_feature_names)"
   ]
  },
  {
   "cell_type": "markdown",
   "id": "2c2275ab",
   "metadata": {},
   "source": [
    "create normalization pipeline, define our model"
   ]
  },
  {
   "cell_type": "code",
   "execution_count": 21,
   "id": "96d94f1d",
   "metadata": {},
   "outputs": [],
   "source": [
    "# pipeline - want to transform po ratings and rs ratings into diff variables\n",
    "# want to normalize rs_rating_diff, po_rating_diff\n",
    "\n",
    "# class ToDataFrame(BaseEstimator, TransformerMixin):\n",
    "#     def __init__(self, column_names):\n",
    "#         self.column_names = column_names\n",
    "\n",
    "#     def fit(self, X, y=None):\n",
    "#         return self\n",
    "\n",
    "#     def transform(self, X):\n",
    "#         return pd.DataFrame(X, columns=self.column_names)\n",
    "\n",
    "# # used to drop squared categoricals after polynomial expansion\n",
    "# class ColumnDropper(BaseEstimator, TransformerMixin):\n",
    "#     def __init__(self, columns_to_drop):\n",
    "#         self.columns_to_drop = columns_to_drop\n",
    "\n",
    "#     def fit(self, X, y=None):\n",
    "#         # Does nothing, since we're not learning anything from the data\n",
    "#         return self\n",
    "\n",
    "#     def transform(self, X):\n",
    "#         # Drops the specified columns\n",
    "        \n",
    "#         return X.drop(columns=self.columns_to_drop)\n",
    "    \n",
    "normalizer = ColumnTransformer(\n",
    "    transformers=[\n",
    "        ('num', StandardScaler(), normalized_features),\n",
    "        ('cat', 'passthrough', other_features)\n",
    "    ]\n",
    ")\n",
    "\n",
    "pipeline = Pipeline([\n",
    "    ('norm', normalizer),\n",
    "    ('poly', PolynomialFeatures(degree=2)),\n",
    "    # ('to_df', ToDataFrame(poly_feature_names)),\n",
    "    # ('dropper', ColumnDropper(columns_to_drop=[f'{binary_feature}^2' for binary_feature in other_features])),\n",
    "    ('classifier', LogisticRegression()) # l2 regularization, log-loss, default solver, single class, binary classification - defaults are good as this is more or less the base case\n",
    "])"
   ]
  },
  {
   "cell_type": "markdown",
   "id": "8888540d",
   "metadata": {},
   "source": [
    "set up train/test split, set up rolling window cross validation splits, apply normalization pipeline + fit model\n",
    "seeing the first basic result here"
   ]
  },
  {
   "cell_type": "code",
   "execution_count": 22,
   "id": "e8d4b8a6",
   "metadata": {},
   "outputs": [
    {
     "name": "stdout",
     "output_type": "stream",
     "text": [
      "[0.51807229 0.49411765 0.54022989 0.54761905 0.59756098]\n",
      "Mean CV score: 0.540 +/- 0.035\n"
     ]
    }
   ],
   "source": [
    "# split off the test set\n",
    "seasons = sorted(games_df['season_start_year'].unique())\n",
    "train_seasons = seasons[:-1] # all but the last season\n",
    "test_season = seasons[-1] # last season\n",
    "train_df, test_df = games_df[games_df['season_start_year'].isin(train_seasons)], games_df[games_df['season_start_year'] == test_season]\n",
    "X_test, y_test = test_df.drop(\"team_a_win\", axis=1), test_df[\"team_a_win\"]\n",
    "\n",
    "\n",
    "# split into train and test sets\n",
    "def rolling_window_splits(df : pd.DataFrame, season_col=\"season_start_year\", train_size=10, n_splits=5):\n",
    "    \n",
    "    # sorted list of unique seasons\n",
    "    seasons = sorted(df[season_col].unique())\n",
    "    \n",
    "    # for each CV split... \n",
    "    for i in range(n_splits):\n",
    "        train_seasons = seasons[i : i + train_size]\n",
    "        val_season = seasons[i + train_size]\n",
    "        \n",
    "        train_idx = df[df[season_col].isin(train_seasons)].index\n",
    "        val_idx = df[df[season_col] == val_season].index\n",
    "        yield train_idx, val_idx\n",
    "\n",
    "X_train, y_train = train_df.drop(\"team_a_win\", axis=1), train_df[\"team_a_win\"]\n",
    "scores = cross_val_score(pipeline, X_train, y_train, cv=rolling_window_splits(train_df, train_size=10, n_splits=5), n_jobs=-1)\n",
    "print(scores)\n",
    "print(f\"Mean CV score: {scores.mean():.3f} +/- {scores.std():.3f}\")\n",
    "\n",
    "# loop of CV splits\n",
    "# for train_idx, val_idx in rolling_window_splits(games_df, train_size=10, n_splits=5):\n",
    "#     train_df = games_df.loc[train_idx].drop(columns=[\"season_start_year\"])\n",
    "#     val_df = games_df.loc[val_idx].drop(columns=[\"season_start_year\"])\n",
    "    \n",
    "#     X_train, y_train = train_df.drop(\"team_a_win\", axis=1), train_df[\"team_a_win\"]\n",
    "#     X_val, y_val = val_df.drop(\"team_a_win\", axis=1), val_df[\"team_a_win\"]\n",
    "    \n",
    "#     pipeline.fit(X_train, y_train)\n",
    "    "
   ]
  },
  {
   "cell_type": "markdown",
   "id": "b8371a59",
   "metadata": {},
   "source": [
    "hyperparameter tuning on C (equivalent to lambda), training on the full non-test set, and getting our final model"
   ]
  },
  {
   "cell_type": "code",
   "execution_count": 23,
   "id": "6af59525",
   "metadata": {},
   "outputs": [
    {
     "name": "stdout",
     "output_type": "stream",
     "text": [
      "Best CV score: 0.544\n",
      "Best params: {'classifier__C': 0.1}\n"
     ]
    }
   ],
   "source": [
    "\n",
    "\n",
    "param_grid = {\n",
    "    'classifier__C': [0.01, 0.1, 1, 10, 100] \n",
    "}\n",
    "grid = GridSearchCV(pipeline, param_grid, cv=rolling_window_splits(train_df, train_size=10, n_splits=5), n_jobs=-1)\n",
    "grid.fit(X_train, y_train)\n",
    "print(f\"Best CV score: {grid.best_score_:.3f}\")\n",
    "print(f\"Best params: {grid.best_params_}\")"
   ]
  },
  {
   "cell_type": "markdown",
   "id": "f0e23077",
   "metadata": {},
   "source": [
    "train the final model with the full training set + the results from grid searching"
   ]
  },
  {
   "cell_type": "code",
   "execution_count": null,
   "id": "432a2de7",
   "metadata": {},
   "outputs": [
    {
     "name": "stdout",
     "output_type": "stream",
     "text": [
      "Test score: 0.508\n"
     ]
    },
    {
     "data": {
      "text/plain": [
       "['output/logistig_reg_model.pkl']"
      ]
     },
     "execution_count": 26,
     "metadata": {},
     "output_type": "execute_result"
    }
   ],
   "source": [
    "post_cv_best_pipeline = grid.best_estimator_\n",
    "post_cv_best_pipeline.fit(X_train, y_train)\n",
    "\n",
    "# evaluate on the test set\n",
    "test_score = post_cv_best_pipeline.score(X_test, y_test)\n",
    "print(f\"Test score: {test_score:.3f}\")\n",
    "\n",
    "# save the model\n",
    "import joblib\n",
    "joblib.dump(pipeline, \"output/logistig_reg_model.pkl\")\n"
   ]
  }
 ],
 "metadata": {
  "kernelspec": {
   "display_name": "nba",
   "language": "python",
   "name": "python3"
  },
  "language_info": {
   "codemirror_mode": {
    "name": "ipython",
    "version": 3
   },
   "file_extension": ".py",
   "mimetype": "text/x-python",
   "name": "python",
   "nbconvert_exporter": "python",
   "pygments_lexer": "ipython3",
   "version": "3.11.7"
  }
 },
 "nbformat": 4,
 "nbformat_minor": 5
}
